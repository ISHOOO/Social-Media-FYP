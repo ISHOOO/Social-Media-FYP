{
 "cells": [
  {
   "cell_type": "markdown",
   "metadata": {},
   "source": [
    "# Importing required libraries"
   ]
  },
  {
   "cell_type": "code",
   "execution_count": 60,
   "metadata": {},
   "outputs": [],
   "source": [
    "import pandas as pd\n",
    "import numpy as np\n",
    "from sklearn.feature_extraction.text import TfidfVectorizer\n",
    "from sklearn.metrics.pairwise import linear_kernel\n",
    "from sklearn.preprocessing import MinMaxScaler"
   ]
  },
  {
   "cell_type": "markdown",
   "metadata": {},
   "source": [
    "# Data Extraction and pre-processing for social media users"
   ]
  },
  {
   "cell_type": "code",
   "execution_count": 61,
   "metadata": {},
   "outputs": [],
   "source": [
    "usersdf=pd.read_csv(\"SocialMediaUsers.csv\")"
   ]
  },
  {
   "cell_type": "code",
   "execution_count": 62,
   "metadata": {},
   "outputs": [
    {
     "name": "stdout",
     "output_type": "stream",
     "text": [
      "<class 'pandas.core.frame.DataFrame'>\n",
      "RangeIndex: 100000 entries, 0 to 99999\n",
      "Data columns (total 7 columns):\n",
      " #   Column     Non-Null Count   Dtype \n",
      "---  ------     --------------   ----- \n",
      " 0   UserID     100000 non-null  int64 \n",
      " 1   Name       100000 non-null  object\n",
      " 2   Gender     100000 non-null  object\n",
      " 3   DOB        100000 non-null  object\n",
      " 4   Interests  100000 non-null  object\n",
      " 5   City       100000 non-null  object\n",
      " 6   Country    100000 non-null  object\n",
      "dtypes: int64(1), object(6)\n",
      "memory usage: 5.3+ MB\n"
     ]
    }
   ],
   "source": [
    "usersdf.info()"
   ]
  },
  {
   "cell_type": "markdown",
   "metadata": {},
   "source": [
    "dropping irrelevant columns "
   ]
  },
  {
   "cell_type": "code",
   "execution_count": 63,
   "metadata": {},
   "outputs": [],
   "source": [
    "usersdf.drop(columns=[\"Gender\",\"UserID\",\"City\",\"DOB\",],inplace=True)"
   ]
  },
  {
   "cell_type": "markdown",
   "metadata": {},
   "source": [
    "combining interests and country for text analyis"
   ]
  },
  {
   "cell_type": "code",
   "execution_count": 64,
   "metadata": {},
   "outputs": [],
   "source": [
    "usersdf[\"keywords\"]=usersdf[\"Interests\"]+\",\"+usersdf[\"Country\"]"
   ]
  },
  {
   "cell_type": "code",
   "execution_count": 65,
   "metadata": {},
   "outputs": [],
   "source": [
    "usersdf[\"keywords\"]=usersdf[\"keywords\"].str.replace(\"'\",\"\")"
   ]
  },
  {
   "cell_type": "code",
   "execution_count": 66,
   "metadata": {},
   "outputs": [],
   "source": [
    "usersdf.drop(columns=[\"Interests\",\"Country\"],inplace=True)"
   ]
  },
  {
   "cell_type": "code",
   "execution_count": 67,
   "metadata": {},
   "outputs": [
    {
     "data": {
      "text/html": [
       "<div>\n",
       "<style scoped>\n",
       "    .dataframe tbody tr th:only-of-type {\n",
       "        vertical-align: middle;\n",
       "    }\n",
       "\n",
       "    .dataframe tbody tr th {\n",
       "        vertical-align: top;\n",
       "    }\n",
       "\n",
       "    .dataframe thead th {\n",
       "        text-align: right;\n",
       "    }\n",
       "</style>\n",
       "<table border=\"1\" class=\"dataframe\">\n",
       "  <thead>\n",
       "    <tr style=\"text-align: right;\">\n",
       "      <th></th>\n",
       "      <th>Name</th>\n",
       "      <th>keywords</th>\n",
       "    </tr>\n",
       "  </thead>\n",
       "  <tbody>\n",
       "    <tr>\n",
       "      <th>0</th>\n",
       "      <td>Jesse Lawhorn</td>\n",
       "      <td>Movies, Fashion, Fashion, Books,Indonesia</td>\n",
       "    </tr>\n",
       "    <tr>\n",
       "      <th>1</th>\n",
       "      <td>Stacy Payne</td>\n",
       "      <td>Gaming, Finance and investments, Outdoor activ...</td>\n",
       "    </tr>\n",
       "    <tr>\n",
       "      <th>2</th>\n",
       "      <td>Katrina Nicewander</td>\n",
       "      <td>DIY and crafts, Music, Science, Fashion,Jordan</td>\n",
       "    </tr>\n",
       "    <tr>\n",
       "      <th>3</th>\n",
       "      <td>Eric Yarbrough</td>\n",
       "      <td>Outdoor activities, Cars and automobiles,Italy</td>\n",
       "    </tr>\n",
       "    <tr>\n",
       "      <th>4</th>\n",
       "      <td>Daniel Adkins</td>\n",
       "      <td>Politics, History,Venezuela</td>\n",
       "    </tr>\n",
       "  </tbody>\n",
       "</table>\n",
       "</div>"
      ],
      "text/plain": [
       "                 Name                                           keywords\n",
       "0       Jesse Lawhorn          Movies, Fashion, Fashion, Books,Indonesia\n",
       "1         Stacy Payne  Gaming, Finance and investments, Outdoor activ...\n",
       "2  Katrina Nicewander     DIY and crafts, Music, Science, Fashion,Jordan\n",
       "3      Eric Yarbrough     Outdoor activities, Cars and automobiles,Italy\n",
       "4       Daniel Adkins                        Politics, History,Venezuela"
      ]
     },
     "execution_count": 67,
     "metadata": {},
     "output_type": "execute_result"
    }
   ],
   "source": [
    "usersdf.head()"
   ]
  },
  {
   "cell_type": "markdown",
   "metadata": {},
   "source": [
    "# data extraction and pre-processing for social media influencers"
   ]
  },
  {
   "cell_type": "code",
   "execution_count": 68,
   "metadata": {},
   "outputs": [],
   "source": [
    "influencer_df=pd.read_csv(\"influencers.csv\")"
   ]
  },
  {
   "cell_type": "code",
   "execution_count": 69,
   "metadata": {},
   "outputs": [
    {
     "name": "stdout",
     "output_type": "stream",
     "text": [
      "<class 'pandas.core.frame.DataFrame'>\n",
      "RangeIndex: 1050 entries, 0 to 1049\n",
      "Data columns (total 9 columns):\n",
      " #   Column         Non-Null Count  Dtype \n",
      "---  ------         --------------  ----- \n",
      " 0   S.no           1050 non-null   int64 \n",
      " 1   username       1050 non-null   object\n",
      " 2   followers      1050 non-null   object\n",
      " 3   country        1046 non-null   object\n",
      " 4   viewers        1050 non-null   object\n",
      " 5   Average views  1050 non-null   object\n",
      " 6   Category_1     1050 non-null   object\n",
      " 7   Category_2     1050 non-null   object\n",
      " 8   Category_3     1050 non-null   object\n",
      "dtypes: int64(1), object(8)\n",
      "memory usage: 74.0+ KB\n"
     ]
    }
   ],
   "source": [
    "influencer_df.info()"
   ]
  },
  {
   "cell_type": "code",
   "execution_count": 71,
   "metadata": {},
   "outputs": [
    {
     "data": {
      "text/html": [
       "<div>\n",
       "<style scoped>\n",
       "    .dataframe tbody tr th:only-of-type {\n",
       "        vertical-align: middle;\n",
       "    }\n",
       "\n",
       "    .dataframe tbody tr th {\n",
       "        vertical-align: top;\n",
       "    }\n",
       "\n",
       "    .dataframe thead th {\n",
       "        text-align: right;\n",
       "    }\n",
       "</style>\n",
       "<table border=\"1\" class=\"dataframe\">\n",
       "  <thead>\n",
       "    <tr style=\"text-align: right;\">\n",
       "      <th></th>\n",
       "      <th>S.no</th>\n",
       "      <th>username</th>\n",
       "      <th>followers</th>\n",
       "      <th>country</th>\n",
       "      <th>viewers</th>\n",
       "      <th>Average views</th>\n",
       "      <th>Category_1</th>\n",
       "      <th>Category_2</th>\n",
       "      <th>Category_3</th>\n",
       "    </tr>\n",
       "  </thead>\n",
       "  <tbody>\n",
       "    <tr>\n",
       "      <th>0</th>\n",
       "      <td>1</td>\n",
       "      <td>cristiano</td>\n",
       "      <td>477.9M</td>\n",
       "      <td>India</td>\n",
       "      <td>5M</td>\n",
       "      <td>6.2M</td>\n",
       "      <td>'Parenting and family'</td>\n",
       "      <td>'Art'</td>\n",
       "      <td>'History'</td>\n",
       "    </tr>\n",
       "    <tr>\n",
       "      <th>1</th>\n",
       "      <td>2</td>\n",
       "      <td>kyliejenner</td>\n",
       "      <td>368.1M</td>\n",
       "      <td>United States</td>\n",
       "      <td>3.5M</td>\n",
       "      <td>5.5M</td>\n",
       "      <td>'Finance and investments'</td>\n",
       "      <td>'Travel'</td>\n",
       "      <td>'Pets'</td>\n",
       "    </tr>\n",
       "    <tr>\n",
       "      <th>2</th>\n",
       "      <td>3</td>\n",
       "      <td>arianagrande</td>\n",
       "      <td>329.6M</td>\n",
       "      <td>United States</td>\n",
       "      <td>2.9M</td>\n",
       "      <td>4M</td>\n",
       "      <td>'Science'</td>\n",
       "      <td>'Movies'</td>\n",
       "      <td>'Beauty'</td>\n",
       "    </tr>\n",
       "    <tr>\n",
       "      <th>3</th>\n",
       "      <td>4</td>\n",
       "      <td>leomessi</td>\n",
       "      <td>358.6M</td>\n",
       "      <td>Indonesia</td>\n",
       "      <td>2.7M</td>\n",
       "      <td>3.5M</td>\n",
       "      <td>'Cars and automobiles'</td>\n",
       "      <td>'Beauty'</td>\n",
       "      <td>'Health and wellness'</td>\n",
       "    </tr>\n",
       "    <tr>\n",
       "      <th>4</th>\n",
       "      <td>5</td>\n",
       "      <td>zendaya</td>\n",
       "      <td>151.1M</td>\n",
       "      <td>United States</td>\n",
       "      <td>4.3M</td>\n",
       "      <td>5.8M</td>\n",
       "      <td>'Parenting and family'</td>\n",
       "      <td>'Beauty'</td>\n",
       "      <td>'Art'</td>\n",
       "    </tr>\n",
       "  </tbody>\n",
       "</table>\n",
       "</div>"
      ],
      "text/plain": [
       "   S.no      username followers        country viewers Average views  \\\n",
       "0     1     cristiano    477.9M          India      5M          6.2M   \n",
       "1     2   kyliejenner    368.1M  United States    3.5M          5.5M   \n",
       "2     3  arianagrande    329.6M  United States    2.9M            4M   \n",
       "3     4      leomessi    358.6M      Indonesia    2.7M          3.5M   \n",
       "4     5       zendaya    151.1M  United States    4.3M          5.8M   \n",
       "\n",
       "                  Category_1 Category_2             Category_3  \n",
       "0     'Parenting and family'      'Art'              'History'  \n",
       "1  'Finance and investments'   'Travel'                 'Pets'  \n",
       "2                  'Science'   'Movies'               'Beauty'  \n",
       "3     'Cars and automobiles'   'Beauty'  'Health and wellness'  \n",
       "4     'Parenting and family'   'Beauty'                  'Art'  "
      ]
     },
     "execution_count": 71,
     "metadata": {},
     "output_type": "execute_result"
    }
   ],
   "source": [
    "influencer_df.head()"
   ]
  },
  {
   "cell_type": "markdown",
   "metadata": {},
   "source": [
    "**Data Transformation:** "
   ]
  },
  {
   "cell_type": "markdown",
   "metadata": {},
   "source": [
    "1: converting values of viewers, Average views and followers to a quantifiable figure"
   ]
  },
  {
   "cell_type": "markdown",
   "metadata": {},
   "source": [
    "2: combining 'country', 'Category_1', 'Category_2', 'Category_3' for text analysis. "
   ]
  },
  {
   "cell_type": "code",
   "execution_count": 72,
   "metadata": {},
   "outputs": [],
   "source": [
    "influencer_df[\"keywords\"]=influencer_df[\"country\"]+\",\"+influencer_df[\"Category_1\"]+\",\"+influencer_df[\"Category_2\"]+\",\"+influencer_df[\"Category_3\"]\n",
    "influencer_df[\"keywords\"]=influencer_df[\"keywords\"].str.replace(\"'\",\"\")\n",
    "influencer_df.drop(columns=[\"country\",\"Category_1\",\"Category_2\",\"Category_3\"],inplace=True)"
   ]
  },
  {
   "cell_type": "code",
   "execution_count": 73,
   "metadata": {},
   "outputs": [],
   "source": [
    "def convert_to_thousands(value):\n",
    "    if value.endswith('K'):\n",
    "        return float(value[:-1])\n",
    "    elif value.endswith('M'):\n",
    "        return float(value[:-1]) * 1000\n",
    "    else:\n",
    "        return float(value)"
   ]
  },
  {
   "cell_type": "code",
   "execution_count": 74,
   "metadata": {},
   "outputs": [],
   "source": [
    "influencer_df['followers'] = influencer_df['followers'].apply(convert_to_thousands)"
   ]
  },
  {
   "cell_type": "code",
   "execution_count": 75,
   "metadata": {},
   "outputs": [],
   "source": [
    "influencer_df['viewers'] = influencer_df['viewers'].apply(convert_to_thousands)"
   ]
  },
  {
   "cell_type": "code",
   "execution_count": 76,
   "metadata": {},
   "outputs": [],
   "source": [
    "influencer_df['Average views'] = influencer_df['Average views'].apply(convert_to_thousands)"
   ]
  },
  {
   "cell_type": "code",
   "execution_count": 77,
   "metadata": {},
   "outputs": [],
   "source": [
    "influencer_df.rename(columns={\"followers\":\"Followers(in_K)\",\"viewers\":\"Viewers(in_K)\",\"Average views\":\"Average_views(in_K)\"},inplace=True)"
   ]
  },
  {
   "cell_type": "code",
   "execution_count": 78,
   "metadata": {},
   "outputs": [],
   "source": [
    "influencer_df.drop(index=influencer_df[influencer_df.username.duplicated(keep=\"first\")==True].index,inplace=True)"
   ]
  },
  {
   "cell_type": "code",
   "execution_count": 79,
   "metadata": {},
   "outputs": [
    {
     "data": {
      "text/html": [
       "<div>\n",
       "<style scoped>\n",
       "    .dataframe tbody tr th:only-of-type {\n",
       "        vertical-align: middle;\n",
       "    }\n",
       "\n",
       "    .dataframe tbody tr th {\n",
       "        vertical-align: top;\n",
       "    }\n",
       "\n",
       "    .dataframe thead th {\n",
       "        text-align: right;\n",
       "    }\n",
       "</style>\n",
       "<table border=\"1\" class=\"dataframe\">\n",
       "  <thead>\n",
       "    <tr style=\"text-align: right;\">\n",
       "      <th></th>\n",
       "      <th>S.no</th>\n",
       "      <th>username</th>\n",
       "      <th>Followers(in_K)</th>\n",
       "      <th>Viewers(in_K)</th>\n",
       "      <th>Average_views(in_K)</th>\n",
       "      <th>keywords</th>\n",
       "    </tr>\n",
       "  </thead>\n",
       "  <tbody>\n",
       "    <tr>\n",
       "      <th>0</th>\n",
       "      <td>1</td>\n",
       "      <td>cristiano</td>\n",
       "      <td>477900.0</td>\n",
       "      <td>5000.0</td>\n",
       "      <td>6200.0</td>\n",
       "      <td>India,Parenting and family,Art,History</td>\n",
       "    </tr>\n",
       "    <tr>\n",
       "      <th>1</th>\n",
       "      <td>2</td>\n",
       "      <td>kyliejenner</td>\n",
       "      <td>368100.0</td>\n",
       "      <td>3500.0</td>\n",
       "      <td>5500.0</td>\n",
       "      <td>United States,Finance and investments,Travel,Pets</td>\n",
       "    </tr>\n",
       "    <tr>\n",
       "      <th>2</th>\n",
       "      <td>3</td>\n",
       "      <td>arianagrande</td>\n",
       "      <td>329600.0</td>\n",
       "      <td>2900.0</td>\n",
       "      <td>4000.0</td>\n",
       "      <td>United States,Science,Movies,Beauty</td>\n",
       "    </tr>\n",
       "    <tr>\n",
       "      <th>3</th>\n",
       "      <td>4</td>\n",
       "      <td>leomessi</td>\n",
       "      <td>358600.0</td>\n",
       "      <td>2700.0</td>\n",
       "      <td>3500.0</td>\n",
       "      <td>Indonesia,Cars and automobiles,Beauty,Health a...</td>\n",
       "    </tr>\n",
       "    <tr>\n",
       "      <th>4</th>\n",
       "      <td>5</td>\n",
       "      <td>zendaya</td>\n",
       "      <td>151100.0</td>\n",
       "      <td>4300.0</td>\n",
       "      <td>5800.0</td>\n",
       "      <td>United States,Parenting and family,Beauty,Art</td>\n",
       "    </tr>\n",
       "  </tbody>\n",
       "</table>\n",
       "</div>"
      ],
      "text/plain": [
       "   S.no      username  Followers(in_K)  Viewers(in_K)  Average_views(in_K)  \\\n",
       "0     1     cristiano         477900.0         5000.0               6200.0   \n",
       "1     2   kyliejenner         368100.0         3500.0               5500.0   \n",
       "2     3  arianagrande         329600.0         2900.0               4000.0   \n",
       "3     4      leomessi         358600.0         2700.0               3500.0   \n",
       "4     5       zendaya         151100.0         4300.0               5800.0   \n",
       "\n",
       "                                            keywords  \n",
       "0             India,Parenting and family,Art,History  \n",
       "1  United States,Finance and investments,Travel,Pets  \n",
       "2                United States,Science,Movies,Beauty  \n",
       "3  Indonesia,Cars and automobiles,Beauty,Health a...  \n",
       "4      United States,Parenting and family,Beauty,Art  "
      ]
     },
     "execution_count": 79,
     "metadata": {},
     "output_type": "execute_result"
    }
   ],
   "source": [
    "influencer_df.head()"
   ]
  },
  {
   "cell_type": "code",
   "execution_count": 85,
   "metadata": {},
   "outputs": [
    {
     "data": {
      "text/html": [
       "<div>\n",
       "<style scoped>\n",
       "    .dataframe tbody tr th:only-of-type {\n",
       "        vertical-align: middle;\n",
       "    }\n",
       "\n",
       "    .dataframe tbody tr th {\n",
       "        vertical-align: top;\n",
       "    }\n",
       "\n",
       "    .dataframe thead th {\n",
       "        text-align: right;\n",
       "    }\n",
       "</style>\n",
       "<table border=\"1\" class=\"dataframe\">\n",
       "  <thead>\n",
       "    <tr style=\"text-align: right;\">\n",
       "      <th></th>\n",
       "      <th>S.no</th>\n",
       "      <th>Followers(in_K)</th>\n",
       "      <th>Viewers(in_K)</th>\n",
       "      <th>Average_views(in_K)</th>\n",
       "    </tr>\n",
       "  </thead>\n",
       "  <tbody>\n",
       "    <tr>\n",
       "      <th>count</th>\n",
       "      <td>983.000000</td>\n",
       "      <td>983.000000</td>\n",
       "      <td>983.000000</td>\n",
       "      <td>983.000000</td>\n",
       "    </tr>\n",
       "    <tr>\n",
       "      <th>mean</th>\n",
       "      <td>499.533062</td>\n",
       "      <td>27059.104781</td>\n",
       "      <td>574.240895</td>\n",
       "      <td>757.683215</td>\n",
       "    </tr>\n",
       "    <tr>\n",
       "      <th>std</th>\n",
       "      <td>289.748966</td>\n",
       "      <td>45371.671900</td>\n",
       "      <td>968.373386</td>\n",
       "      <td>1081.645868</td>\n",
       "    </tr>\n",
       "    <tr>\n",
       "      <th>min</th>\n",
       "      <td>1.000000</td>\n",
       "      <td>1900.000000</td>\n",
       "      <td>0.000000</td>\n",
       "      <td>34.200000</td>\n",
       "    </tr>\n",
       "    <tr>\n",
       "      <th>25%</th>\n",
       "      <td>246.500000</td>\n",
       "      <td>8950.000000</td>\n",
       "      <td>175.450000</td>\n",
       "      <td>255.700000</td>\n",
       "    </tr>\n",
       "    <tr>\n",
       "      <th>50%</th>\n",
       "      <td>502.000000</td>\n",
       "      <td>14900.000000</td>\n",
       "      <td>323.400000</td>\n",
       "      <td>457.400000</td>\n",
       "    </tr>\n",
       "    <tr>\n",
       "      <th>75%</th>\n",
       "      <td>751.500000</td>\n",
       "      <td>27300.000000</td>\n",
       "      <td>600.300000</td>\n",
       "      <td>819.250000</td>\n",
       "    </tr>\n",
       "    <tr>\n",
       "      <th>max</th>\n",
       "      <td>1000.000000</td>\n",
       "      <td>546600.000000</td>\n",
       "      <td>12700.000000</td>\n",
       "      <td>12700.000000</td>\n",
       "    </tr>\n",
       "  </tbody>\n",
       "</table>\n",
       "</div>"
      ],
      "text/plain": [
       "              S.no  Followers(in_K)  Viewers(in_K)  Average_views(in_K)\n",
       "count   983.000000       983.000000     983.000000           983.000000\n",
       "mean    499.533062     27059.104781     574.240895           757.683215\n",
       "std     289.748966     45371.671900     968.373386          1081.645868\n",
       "min       1.000000      1900.000000       0.000000            34.200000\n",
       "25%     246.500000      8950.000000     175.450000           255.700000\n",
       "50%     502.000000     14900.000000     323.400000           457.400000\n",
       "75%     751.500000     27300.000000     600.300000           819.250000\n",
       "max    1000.000000    546600.000000   12700.000000         12700.000000"
      ]
     },
     "execution_count": 85,
     "metadata": {},
     "output_type": "execute_result"
    }
   ],
   "source": [
    "influencer_df.describe()"
   ]
  },
  {
   "cell_type": "markdown",
   "metadata": {},
   "source": [
    "**data normalization:** \n",
    "count of followers, viewers and average views will contribute to the chances of a movie being recommended.  "
   ]
  },
  {
   "cell_type": "code",
   "execution_count": 80,
   "metadata": {},
   "outputs": [],
   "source": [
    "cols=[\"Followers(in_K)\",\"Viewers(in_K)\",\"Average_views(in_K)\"]\n",
    "data=influencer_df[cols]\n",
    "scaler = MinMaxScaler(feature_range=(0,100))\n",
    "normalized_data = scaler.fit_transform(data)"
   ]
  },
  {
   "cell_type": "markdown",
   "metadata": {},
   "source": [
    "Tf*Idf algorithm is being used to analyze the keywords for comparison"
   ]
  },
  {
   "cell_type": "code",
   "execution_count": 81,
   "metadata": {},
   "outputs": [],
   "source": [
    "tfidf=TfidfVectorizer(stop_words=\"english\")\n",
    "influencer_df[\"keywords\"]=influencer_df[\"keywords\"].fillna(\"\")\n",
    "influencer_tfidf=tfidf.fit_transform(influencer_df.keywords)\n",
    "users_tfidf=tfidf.transform(usersdf[\"keywords\"])"
   ]
  },
  {
   "cell_type": "markdown",
   "metadata": {},
   "source": [
    "cosine similarity score determines how similar are interests of users are with the type of content created by influencers."
   ]
  },
  {
   "cell_type": "code",
   "execution_count": 82,
   "metadata": {},
   "outputs": [],
   "source": [
    "cosine_sim=linear_kernel(influencer_tfidf,users_tfidf)"
   ]
  },
  {
   "cell_type": "markdown",
   "metadata": {},
   "source": [
    "Here is the implementation of the function to give recommendations to the target. '**username**' is the name of target user."
   ]
  },
  {
   "cell_type": "code",
   "execution_count": 83,
   "metadata": {},
   "outputs": [
    {
     "name": "stdout",
     "output_type": "stream",
     "text": [
      "7                thv\n",
      "12               j.m\n",
      "0          cristiano\n",
      "17            agustd\n",
      "19               jin\n",
      "1        kyliejenner\n",
      "24         uarmyhope\n",
      "11    tomholland2013\n",
      "2       arianagrande\n",
      "3           leomessi\n",
      "Name: username, dtype: object\n"
     ]
    }
   ],
   "source": [
    "def get_recommendations(username, influencer_df, usersdf, cosine_sim, normalized_data):\n",
    "    user_index = usersdf[usersdf['Name'] == username].index[0] #index of target user\n",
    "    user_cosine_sim = cosine_sim[:, user_index] #compares similarity of interests of \n",
    "    #target to content provided by creator\n",
    "    combined_values = user_cosine_sim + normalized_data.sum(axis=1)#combines the above comparison \n",
    "    #score with followers, viewers and average views\n",
    "    sim_scores = sorted(enumerate(combined_values), key=lambda x: x[1], reverse=True)[:10]\n",
    "    sim_indices = [i[0] for i in sim_scores]\n",
    "    print(influencer_df[\"username\"].iloc[sim_indices])\n",
    "\n",
    "get_recommendations('Jesse Lawhorn', influencer_df, usersdf, cosine_sim, normalized_data)"
   ]
  }
 ],
 "metadata": {
  "kernelspec": {
   "display_name": "Python 3",
   "language": "python",
   "name": "python3"
  },
  "language_info": {
   "codemirror_mode": {
    "name": "ipython",
    "version": 3
   },
   "file_extension": ".py",
   "mimetype": "text/x-python",
   "name": "python",
   "nbconvert_exporter": "python",
   "pygments_lexer": "ipython3",
   "version": "3.10.11"
  }
 },
 "nbformat": 4,
 "nbformat_minor": 2
}
